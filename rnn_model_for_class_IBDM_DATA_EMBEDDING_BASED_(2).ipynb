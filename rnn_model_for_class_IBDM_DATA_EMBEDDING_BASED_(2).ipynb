{
 "cells": [
  {
   "cell_type": "code",
   "execution_count": 1,
   "metadata": {
    "colab": {
     "base_uri": "https://localhost:8080/"
    },
    "id": "a-nyBDK1ukdX",
    "outputId": "098837ac-38d1-4857-89bd-0fed280bfe0f"
   },
   "outputs": [
    {
     "name": "stdout",
     "output_type": "stream",
     "text": [
      "Downloading data from https://storage.googleapis.com/tensorflow/tf-keras-datasets/imdb.npz\n",
      "17464789/17464789 [==============================] - 0s 0us/step\n"
     ]
    }
   ],
   "source": [
    "from tensorflow.keras.datasets import imdb\n",
    "from tensorflow.keras.preprocessing.sequence import pad_sequences\n",
    "\n",
    "# Define the number of words to keep in the vocabulary and the maximum review length\n",
    "num_words = 10000  # Vocabulary size\n",
    "maxlen = 200       # Max length of a review\n",
    "\n",
    "# Load the IMDb dataset\n",
    "(X_train, y_train), (X_test, y_test) = imdb.load_data(num_words=num_words)\n",
    "\n",
    "# Pad sequences to ensure uniform input size\n",
    "X_train = pad_sequences(X_train, maxlen=maxlen)\n",
    "X_test = pad_sequences(X_test, maxlen=maxlen)\n"
   ]
  },
  {
   "cell_type": "code",
   "execution_count": 2,
   "metadata": {
    "colab": {
     "base_uri": "https://localhost:8080/"
    },
    "id": "y_snWkycuo15",
    "outputId": "c2d87b90-605a-41c6-ae4a-73e89cda1ee4"
   },
   "outputs": [
    {
     "name": "stdout",
     "output_type": "stream",
     "text": [
      "Model: \"sequential\"\n",
      "_________________________________________________________________\n",
      " Layer (type)                Output Shape              Param #   \n",
      "=================================================================\n",
      " embedding (Embedding)       (None, 200, 100)          1000000   \n",
      "                                                                 \n",
      " simple_rnn (SimpleRNN)      (None, 64)                10560     \n",
      "                                                                 \n",
      " dense (Dense)               (None, 1)                 65        \n",
      "                                                                 \n",
      "=================================================================\n",
      "Total params: 1010625 (3.86 MB)\n",
      "Trainable params: 1010625 (3.86 MB)\n",
      "Non-trainable params: 0 (0.00 Byte)\n",
      "_________________________________________________________________\n"
     ]
    }
   ],
   "source": [
    "from tensorflow.keras.models import Sequential\n",
    "from tensorflow.keras.layers import Embedding, SimpleRNN, Dense\n",
    "\n",
    "# Model parameters\n",
    "embedding_dim = 100  # Embedding dimensions\n",
    "\n",
    "# Building the model\n",
    "model = Sequential()\n",
    "model.add(Embedding(input_dim=num_words, output_dim=embedding_dim, input_length=maxlen))\n",
    "model.add(SimpleRNN(64))  # Using 64 units in the RNN layer\n",
    "model.add(Dense(1, activation='sigmoid'))\n",
    "\n",
    "# Compile the model\n",
    "model.compile(optimizer='adam', loss='binary_crossentropy', metrics=['accuracy'])\n",
    "\n",
    "# Model summary\n",
    "model.summary()\n"
   ]
  },
  {
   "cell_type": "code",
   "execution_count": 3,
   "metadata": {
    "colab": {
     "base_uri": "https://localhost:8080/"
    },
    "id": "uonsOGK9u0Fn",
    "outputId": "1e4f6d89-1d05-4d3a-9986-3d43e5280e4f"
   },
   "outputs": [
    {
     "name": "stdout",
     "output_type": "stream",
     "text": [
      "Epoch 1/5\n",
      "625/625 [==============================] - 42s 65ms/step - loss: 0.5772 - accuracy: 0.6826 - val_loss: 0.5234 - val_accuracy: 0.7548\n",
      "Epoch 2/5\n",
      "625/625 [==============================] - 40s 64ms/step - loss: 0.5210 - accuracy: 0.7452 - val_loss: 0.5091 - val_accuracy: 0.7574\n",
      "Epoch 3/5\n",
      "625/625 [==============================] - 39s 63ms/step - loss: 0.3569 - accuracy: 0.8465 - val_loss: 0.4554 - val_accuracy: 0.7956\n",
      "Epoch 4/5\n",
      "625/625 [==============================] - 39s 62ms/step - loss: 0.4109 - accuracy: 0.8205 - val_loss: 0.5139 - val_accuracy: 0.7864\n",
      "Epoch 5/5\n",
      "625/625 [==============================] - 39s 62ms/step - loss: 0.4714 - accuracy: 0.7724 - val_loss: 0.6335 - val_accuracy: 0.6646\n"
     ]
    },
    {
     "data": {
      "text/plain": [
       "<keras.src.callbacks.History at 0x7cebda733b50>"
      ]
     },
     "execution_count": 3,
     "metadata": {},
     "output_type": "execute_result"
    }
   ],
   "source": [
    "model.fit(X_train, y_train, batch_size=32, epochs=5, validation_split=0.2)\n"
   ]
  },
  {
   "cell_type": "code",
   "execution_count": 4,
   "metadata": {
    "colab": {
     "base_uri": "https://localhost:8080/"
    },
    "id": "xvNBOUrdu2Jq",
    "outputId": "2ae7bc42-236d-4990-a0a4-5e4aba29652d"
   },
   "outputs": [
    {
     "name": "stdout",
     "output_type": "stream",
     "text": [
      "782/782 [==============================] - 11s 15ms/step - loss: 0.6405 - accuracy: 0.6580\n",
      "Test Accuracy: 0.6579599976539612\n"
     ]
    }
   ],
   "source": [
    "loss, accuracy = model.evaluate(X_test, y_test)\n",
    "print(f\"Test Accuracy: {accuracy}\")\n"
   ]
  },
  {
   "cell_type": "code",
   "execution_count": 6,
   "metadata": {
    "colab": {
     "base_uri": "https://localhost:8080/"
    },
    "id": "reQ42m11vnyO",
    "outputId": "739c3818-5de9-4429-d3c5-5784cbde4311"
   },
   "outputs": [
    {
     "name": "stdout",
     "output_type": "stream",
     "text": [
      "1/1 [==============================] - 0s 190ms/step\n",
      "Positive\n"
     ]
    }
   ],
   "source": [
    "from tensorflow.keras.datasets import imdb\n",
    "from tensorflow.keras.preprocessing.sequence import pad_sequences\n",
    "\n",
    "# Load the word index dictionary\n",
    "word_index = imdb.get_word_index()\n",
    "\n",
    "def predict_sentiment(review_text):\n",
    "    # Convert words in the review to indices\n",
    "    tokens = review_text.split()\n",
    "    token_indices = [word_index.get(word, 0) for word in tokens]\n",
    "\n",
    "    # Pad the sequence\n",
    "    padded_sequence = pad_sequences([token_indices], maxlen=maxlen)\n",
    "\n",
    "    # Make the prediction\n",
    "    prediction = model.predict(padded_sequence)\n",
    "\n",
    "    # Interpret the prediction\n",
    "    return \"Positive\" if prediction[0][0] > 0.5 else \"Negative\"\n",
    "\n",
    "# Example usage\n",
    "print(predict_sentiment(\"An amazing movie, I loved it!\"))\n"
   ]
  },
  {
   "cell_type": "code",
   "execution_count": null,
   "metadata": {
    "id": "qD_SY1FgvrLq"
   },
   "outputs": [],
   "source": []
  },
  {
   "cell_type": "code",
   "execution_count": null,
   "metadata": {
    "id": "RAn_u8AmwcZZ"
   },
   "outputs": [],
   "source": []
  }
 ],
 "metadata": {
  "colab": {
   "provenance": []
  },
  "kernelspec": {
   "display_name": "Python 3 (ipykernel)",
   "language": "python",
   "name": "python3"
  },
  "language_info": {
   "codemirror_mode": {
    "name": "ipython",
    "version": 3
   },
   "file_extension": ".py",
   "mimetype": "text/x-python",
   "name": "python",
   "nbconvert_exporter": "python",
   "pygments_lexer": "ipython3",
   "version": "3.10.9"
  }
 },
 "nbformat": 4,
 "nbformat_minor": 1
}
