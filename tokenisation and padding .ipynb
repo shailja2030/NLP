{
 "cells": [
  {
   "cell_type": "code",
   "execution_count": 2,
   "id": "436cdb99",
   "metadata": {},
   "outputs": [],
   "source": [
    "import numpy as np \n",
    "import pandas as pd \n",
    "from tensorflow.keras.preprocessing.sequence import pad_sequences \n",
    "from tensorflow.keras.preprocessing.text import Tokenizer "
   ]
  },
  {
   "cell_type": "code",
   "execution_count": 3,
   "id": "27718f1a",
   "metadata": {},
   "outputs": [],
   "source": [
    "doc= [\"How is your week going I hope it is going good\"]"
   ]
  },
  {
   "cell_type": "code",
   "execution_count": 4,
   "id": "d65cfdbe",
   "metadata": {},
   "outputs": [],
   "source": [
    "tok=Tokenizer(oov_token=\"<uNK>\")"
   ]
  },
  {
   "cell_type": "code",
   "execution_count": 5,
   "id": "4678db35",
   "metadata": {},
   "outputs": [],
   "source": [
    "tok.fit_on_texts(doc)"
   ]
  },
  {
   "cell_type": "code",
   "execution_count": 6,
   "id": "06d6f0b8",
   "metadata": {},
   "outputs": [
    {
     "data": {
      "text/plain": [
       "{'<UNK>': 1,\n",
       " 'is': 2,\n",
       " 'going': 3,\n",
       " 'how': 4,\n",
       " 'your': 5,\n",
       " 'week': 6,\n",
       " 'i': 7,\n",
       " 'hope': 8,\n",
       " 'it': 9,\n",
       " 'good': 10}"
      ]
     },
     "execution_count": 6,
     "metadata": {},
     "output_type": "execute_result"
    }
   ],
   "source": [
    "tok.word_index"
   ]
  },
  {
   "cell_type": "code",
   "execution_count": 7,
   "id": "678a0415",
   "metadata": {},
   "outputs": [],
   "source": [
    "sequence=tok.texts_to_sequences(doc)"
   ]
  },
  {
   "cell_type": "code",
   "execution_count": 8,
   "id": "15d3041b",
   "metadata": {},
   "outputs": [
    {
     "data": {
      "text/plain": [
       "[[4, 2, 5, 6, 3, 7, 8, 9, 2, 3, 10]]"
      ]
     },
     "execution_count": 8,
     "metadata": {},
     "output_type": "execute_result"
    }
   ],
   "source": [
    "sequence"
   ]
  },
  {
   "cell_type": "code",
   "execution_count": null,
   "id": "d8f956e2",
   "metadata": {},
   "outputs": [],
   "source": []
  }
 ],
 "metadata": {
  "kernelspec": {
   "display_name": "Python 3 (ipykernel)",
   "language": "python",
   "name": "python3"
  },
  "language_info": {
   "codemirror_mode": {
    "name": "ipython",
    "version": 3
   },
   "file_extension": ".py",
   "mimetype": "text/x-python",
   "name": "python",
   "nbconvert_exporter": "python",
   "pygments_lexer": "ipython3",
   "version": "3.10.9"
  }
 },
 "nbformat": 4,
 "nbformat_minor": 5
}
